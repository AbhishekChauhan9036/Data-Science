{
 "cells": [
  {
   "cell_type": "code",
   "execution_count": 1,
   "id": "b7d83eef-5178-49e7-b1c1-df6ff9eadacd",
   "metadata": {},
   "outputs": [
    {
     "name": "stdout",
     "output_type": "stream",
     "text": [
      "   *   \n",
      "  ***  \n",
      " ***** \n",
      "*******\n"
     ]
    }
   ],
   "source": [
    "for i in range(1,5):\n",
    "    for j in range(1,8):\n",
    "        if j>=5-i and j<=3+i:\n",
    "            print(\"*\", end=\"\")\n",
    "        else:\n",
    "            print(\" \", end=\"\")\n",
    "    print()"
   ]
  },
  {
   "cell_type": "code",
   "execution_count": 22,
   "id": "0dd94040-9d5b-4de9-b7a0-59d7e138ba5d",
   "metadata": {},
   "outputs": [
    {
     "name": "stdout",
     "output_type": "stream",
     "text": [
      "    1    \n",
      "   121   \n",
      "  12321  \n",
      " 1234321 \n",
      "123454321\n"
     ]
    }
   ],
   "source": [
    "for i in range(1,6):\n",
    "    k=1\n",
    "    for j in range(1,10):\n",
    "        if j>=6-i and j<=4+i:\n",
    "            print(k, end = \"\")\n",
    "            k = k+1 if j<5 else k-1\n",
    "        else:\n",
    "            print(\" \", end = \"\")\n",
    "    print()"
   ]
  },
  {
   "cell_type": "code",
   "execution_count": 18,
   "id": "db7c9ffa-8a50-44e5-984b-5483f4edc095",
   "metadata": {},
   "outputs": [
    {
     "name": "stdout",
     "output_type": "stream",
     "text": [
      "Even\n"
     ]
    }
   ],
   "source": [
    "num = 22\n",
    "print(\"Even\") if num%2==0 else print(\"Odd\")"
   ]
  },
  {
   "cell_type": "code",
   "execution_count": 14,
   "id": "57e8ba91-239e-4319-8780-5b2f6b091796",
   "metadata": {},
   "outputs": [
    {
     "name": "stdout",
     "output_type": "stream",
     "text": [
      "2\n",
      "4\n",
      "6\n",
      "8\n",
      "10\n",
      "12\n",
      "14\n",
      "16\n",
      "18\n",
      "20\n"
     ]
    }
   ],
   "source": [
    "for i in range(1,21):\n",
    "    if i%2==0:\n",
    "        print(i)"
   ]
  },
  {
   "cell_type": "code",
   "execution_count": 26,
   "id": "0f44786b-f55d-4d59-972c-65019115c0dc",
   "metadata": {},
   "outputs": [
    {
     "name": "stdout",
     "output_type": "stream",
     "text": [
      "kehsihbA\n"
     ]
    }
   ],
   "source": [
    "# Take a string input and print its reverse\n",
    "reverse = \"\"\n",
    "str1 = \"Abhishek\"\n",
    "for i in range(len(str1)-1,-1,-1):\n",
    "    reverse+=str1[i]\n",
    "\n",
    "print(reverse)"
   ]
  },
  {
   "cell_type": "code",
   "execution_count": 33,
   "id": "6aa699a7-b399-4903-8393-645e8543f1bd",
   "metadata": {},
   "outputs": [
    {
     "name": "stdout",
     "output_type": "stream",
     "text": [
      "3\n"
     ]
    }
   ],
   "source": [
    "# Write a Python program to count vowels in a given string.\n",
    "cnt = 0\n",
    "name = \"rohAnOe\"\n",
    "name = name.lower()\n",
    "for i in range(0,len(name)-1):\n",
    "    if name[i]=='a' or name[i]=='e' or name[i]=='i' or name[i]=='o' or name[i]=='u':\n",
    "        cnt+=1\n",
    "        \n",
    "print(cnt)"
   ]
  },
  {
   "cell_type": "code",
   "execution_count": 45,
   "id": "2f8c1ee4-c2dc-4364-8066-9339a9d53cc6",
   "metadata": {},
   "outputs": [
    {
     "name": "stdout",
     "output_type": "stream",
     "text": [
      "Not a Palindrome\n"
     ]
    }
   ],
   "source": [
    "# Write a Python program to check if a string is a palindrome.\n",
    "check = True\n",
    "name = \"1232\"\n",
    "for i in range(0, len(name)//2):\n",
    "    if(name[i]!=name[len(name)-i-1]):\n",
    "        check = False\n",
    "        break\n",
    "        \n",
    "print(\"Palindrome\") if check==True else print(\"Not a Palindrome\")"
   ]
  },
  {
   "cell_type": "code",
   "execution_count": 50,
   "id": "c1e87fab-6554-464e-88a4-c97de4665508",
   "metadata": {},
   "outputs": [
    {
     "name": "stdout",
     "output_type": "stream",
     "text": [
      "120\n"
     ]
    }
   ],
   "source": [
    "# Write a Python function to find the factorial of a number.\n",
    "fact = 1\n",
    "num = 5\n",
    "for i in range(1,num+1):\n",
    "    fact*=(i)\n",
    "\n",
    "print(fact)"
   ]
  },
  {
   "cell_type": "code",
   "execution_count": 52,
   "id": "e4a06bae-1d3f-4382-a369-5ab5db1ccb41",
   "metadata": {},
   "outputs": [
    {
     "name": "stdout",
     "output_type": "stream",
     "text": [
      "90\n"
     ]
    }
   ],
   "source": [
    "# Create a program to find the largest number in a list.\n",
    "listt = [12 , 89, 54, 90, 32, 45, 67, 99]\n",
    "FirstMax = 0\n",
    "for i in range(0, len(listt)-1):\n",
    "    if(listt[i]>listt[i+1]):\n",
    "        FirstMax = listt[i]\n",
    "\n",
    "print(FirstMax)"
   ]
  },
  {
   "cell_type": "code",
   "execution_count": 59,
   "id": "55910dec-88b9-48fc-be3c-79a6ea58bdf5",
   "metadata": {},
   "outputs": [
    {
     "name": "stdin",
     "output_type": "stream",
     "text": [
      " 10\n",
      " 10\n",
      " +\n"
     ]
    },
    {
     "name": "stdout",
     "output_type": "stream",
     "text": [
      "20\n"
     ]
    }
   ],
   "source": [
    "# Implement a simple calculator (add, subtract, multiply, divide).\n",
    "a = int(input())\n",
    "b = int(input())\n",
    "ch = input()\n",
    "\n",
    "if ch == '+':\n",
    "    print(a+b)\n",
    "elif ch == '-':\n",
    "    print(a-b)\n",
    "elif ch == '*':\n",
    "    print(a*b)\n",
    "elif ch == '/':\n",
    "    print(a/b)\n",
    "else:\n",
    "    print(\"Invalid Input\")"
   ]
  },
  {
   "cell_type": "code",
   "execution_count": 62,
   "id": "9b2134c0-7c69-4ec0-a0e5-1bf0b3df49d8",
   "metadata": {},
   "outputs": [
    {
     "name": "stdout",
     "output_type": "stream",
     "text": [
      "10 20\n"
     ]
    }
   ],
   "source": [
    "a,b = 10,20\n",
    "print(a,b)"
   ]
  },
  {
   "cell_type": "code",
   "execution_count": null,
   "id": "ac1df721-827d-41f3-9edc-b1ca1d0fe70e",
   "metadata": {},
   "outputs": [],
   "source": []
  }
 ],
 "metadata": {
  "kernelspec": {
   "display_name": "Python 3 (ipykernel)",
   "language": "python",
   "name": "python3"
  },
  "language_info": {
   "codemirror_mode": {
    "name": "ipython",
    "version": 3
   },
   "file_extension": ".py",
   "mimetype": "text/x-python",
   "name": "python",
   "nbconvert_exporter": "python",
   "pygments_lexer": "ipython3",
   "version": "3.13.2"
  }
 },
 "nbformat": 4,
 "nbformat_minor": 5
}
